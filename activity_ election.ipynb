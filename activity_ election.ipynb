{
 "cells": [
  {
   "cell_type": "markdown",
   "id": "6ba861a3",
   "metadata": {},
   "source": [
    "# 1)Data collection"
   ]
  },
  {
   "cell_type": "code",
   "execution_count": 384,
   "id": "65f793ee",
   "metadata": {},
   "outputs": [],
   "source": [
    "import numpy as np\n",
    "import pandas as pd\n",
    "import matplotlib.pyplot as plt\n",
    "import seaborn as sns\n",
    "import warnings\n",
    "warnings.filterwarnings('ignore')\n",
    "\n",
    "from sklearn.preprocessing import LabelEncoder\n",
    "from sklearn.preprocessing import MinMaxScaler\n",
    "from sklearn.model_selection import train_test_split\n",
    "from sklearn.neighbors import KNeighborsClassifier\n",
    "from sklearn.feature_selection import SelectKBest, chi2"
   ]
  },
  {
   "cell_type": "markdown",
   "id": "2b1608a3",
   "metadata": {},
   "source": [
    "### Read the Data Table"
   ]
  },
  {
   "cell_type": "code",
   "execution_count": 385,
   "id": "5547fd1e",
   "metadata": {},
   "outputs": [
    {
     "data": {
      "text/html": [
       "<div>\n",
       "<style scoped>\n",
       "    .dataframe tbody tr th:only-of-type {\n",
       "        vertical-align: middle;\n",
       "    }\n",
       "\n",
       "    .dataframe tbody tr th {\n",
       "        vertical-align: top;\n",
       "    }\n",
       "\n",
       "    .dataframe thead th {\n",
       "        text-align: right;\n",
       "    }\n",
       "</style>\n",
       "<table border=\"1\" class=\"dataframe\">\n",
       "  <thead>\n",
       "    <tr style=\"text-align: right;\">\n",
       "      <th></th>\n",
       "      <th>STATE</th>\n",
       "      <th>CONSTITUENCY</th>\n",
       "      <th>NAME</th>\n",
       "      <th>WINNER</th>\n",
       "      <th>PARTY</th>\n",
       "      <th>SYMBOL</th>\n",
       "      <th>GENDER</th>\n",
       "      <th>CRIMINAL\\nCASES</th>\n",
       "      <th>AGE</th>\n",
       "      <th>CATEGORY</th>\n",
       "      <th>EDUCATION</th>\n",
       "      <th>GENERAL\\nVOTES</th>\n",
       "      <th>POSTAL\\nVOTES</th>\n",
       "      <th>TOTAL\\nVOTES</th>\n",
       "      <th>TOTAL ELECTORS</th>\n",
       "    </tr>\n",
       "  </thead>\n",
       "  <tbody>\n",
       "    <tr>\n",
       "      <th>0</th>\n",
       "      <td>Telangana</td>\n",
       "      <td>ADILABAD</td>\n",
       "      <td>SOYAM BAPU RAO</td>\n",
       "      <td>1</td>\n",
       "      <td>BJP</td>\n",
       "      <td>Lotus</td>\n",
       "      <td>MALE</td>\n",
       "      <td>52</td>\n",
       "      <td>52.0</td>\n",
       "      <td>ST</td>\n",
       "      <td>12th Pass</td>\n",
       "      <td>376892</td>\n",
       "      <td>482</td>\n",
       "      <td>377374</td>\n",
       "      <td>1489790</td>\n",
       "    </tr>\n",
       "    <tr>\n",
       "      <th>1</th>\n",
       "      <td>Telangana</td>\n",
       "      <td>ADILABAD</td>\n",
       "      <td>Godam Nagesh</td>\n",
       "      <td>0</td>\n",
       "      <td>TRS</td>\n",
       "      <td>Car</td>\n",
       "      <td>MALE</td>\n",
       "      <td>0</td>\n",
       "      <td>54.0</td>\n",
       "      <td>ST</td>\n",
       "      <td>Post Graduate</td>\n",
       "      <td>318665</td>\n",
       "      <td>149</td>\n",
       "      <td>318814</td>\n",
       "      <td>1489790</td>\n",
       "    </tr>\n",
       "    <tr>\n",
       "      <th>2</th>\n",
       "      <td>Telangana</td>\n",
       "      <td>ADILABAD</td>\n",
       "      <td>RATHOD RAMESH</td>\n",
       "      <td>0</td>\n",
       "      <td>INC</td>\n",
       "      <td>Hand</td>\n",
       "      <td>MALE</td>\n",
       "      <td>3</td>\n",
       "      <td>52.0</td>\n",
       "      <td>ST</td>\n",
       "      <td>12th Pass</td>\n",
       "      <td>314057</td>\n",
       "      <td>181</td>\n",
       "      <td>314238</td>\n",
       "      <td>1489790</td>\n",
       "    </tr>\n",
       "    <tr>\n",
       "      <th>3</th>\n",
       "      <td>Telangana</td>\n",
       "      <td>ADILABAD</td>\n",
       "      <td>NOTA</td>\n",
       "      <td>0</td>\n",
       "      <td>NOTA</td>\n",
       "      <td>NaN</td>\n",
       "      <td>NaN</td>\n",
       "      <td>NaN</td>\n",
       "      <td>NaN</td>\n",
       "      <td>NaN</td>\n",
       "      <td>NaN</td>\n",
       "      <td>13030</td>\n",
       "      <td>6</td>\n",
       "      <td>13036</td>\n",
       "      <td>1489790</td>\n",
       "    </tr>\n",
       "    <tr>\n",
       "      <th>4</th>\n",
       "      <td>Uttar Pradesh</td>\n",
       "      <td>AGRA</td>\n",
       "      <td>Satyapal Singh Baghel</td>\n",
       "      <td>1</td>\n",
       "      <td>BJP</td>\n",
       "      <td>Lotus</td>\n",
       "      <td>MALE</td>\n",
       "      <td>5</td>\n",
       "      <td>58.0</td>\n",
       "      <td>SC</td>\n",
       "      <td>Doctorate</td>\n",
       "      <td>644459</td>\n",
       "      <td>2416</td>\n",
       "      <td>646875</td>\n",
       "      <td>1937690</td>\n",
       "    </tr>\n",
       "  </tbody>\n",
       "</table>\n",
       "</div>"
      ],
      "text/plain": [
       "           STATE CONSTITUENCY                   NAME  WINNER PARTY SYMBOL  \\\n",
       "0      Telangana     ADILABAD         SOYAM BAPU RAO       1   BJP  Lotus   \n",
       "1      Telangana     ADILABAD           Godam Nagesh       0   TRS    Car   \n",
       "2      Telangana     ADILABAD          RATHOD RAMESH       0   INC   Hand   \n",
       "3      Telangana     ADILABAD                   NOTA       0  NOTA    NaN   \n",
       "4  Uttar Pradesh         AGRA  Satyapal Singh Baghel       1   BJP  Lotus   \n",
       "\n",
       "  GENDER CRIMINAL\\nCASES   AGE CATEGORY      EDUCATION  GENERAL\\nVOTES  \\\n",
       "0   MALE              52  52.0       ST      12th Pass          376892   \n",
       "1   MALE               0  54.0       ST  Post Graduate          318665   \n",
       "2   MALE               3  52.0       ST      12th Pass          314057   \n",
       "3    NaN             NaN   NaN      NaN            NaN           13030   \n",
       "4   MALE               5  58.0       SC      Doctorate          644459   \n",
       "\n",
       "   POSTAL\\nVOTES  TOTAL\\nVOTES  TOTAL ELECTORS  \n",
       "0            482        377374         1489790  \n",
       "1            149        318814         1489790  \n",
       "2            181        314238         1489790  \n",
       "3              6         13036         1489790  \n",
       "4           2416        646875         1937690  "
      ]
     },
     "execution_count": 385,
     "metadata": {},
     "output_type": "execute_result"
    }
   ],
   "source": [
    "dataset = pd.read_csv(r\"C:\\Users\\hp\\Downloads\\elec.csv\")\n",
    "dataset.head()"
   ]
  },
  {
   "cell_type": "markdown",
   "id": "e700ec9d",
   "metadata": {},
   "source": [
    "- The data is about the 2019 India general election candidates and the votes obatined"
   ]
  },
  {
   "cell_type": "code",
   "execution_count": 386,
   "id": "9dc5d257",
   "metadata": {},
   "outputs": [
    {
     "name": "stdout",
     "output_type": "stream",
     "text": [
      "<class 'pandas.core.frame.DataFrame'>\n",
      "RangeIndex: 2263 entries, 0 to 2262\n",
      "Data columns (total 15 columns):\n",
      " #   Column          Non-Null Count  Dtype  \n",
      "---  ------          --------------  -----  \n",
      " 0   STATE           2263 non-null   object \n",
      " 1   CONSTITUENCY    2263 non-null   object \n",
      " 2   NAME            2263 non-null   object \n",
      " 3   WINNER          2263 non-null   int64  \n",
      " 4   PARTY           2263 non-null   object \n",
      " 5   SYMBOL          2018 non-null   object \n",
      " 6   GENDER          2018 non-null   object \n",
      " 7   CRIMINAL\n",
      "CASES  2018 non-null   object \n",
      " 8   AGE             2018 non-null   float64\n",
      " 9   CATEGORY        2018 non-null   object \n",
      " 10  EDUCATION       2018 non-null   object \n",
      " 11  GENERAL\n",
      "VOTES   2263 non-null   int64  \n",
      " 12  POSTAL\n",
      "VOTES    2263 non-null   int64  \n",
      " 13  TOTAL\n",
      "VOTES     2263 non-null   int64  \n",
      " 14  TOTAL ELECTORS  2263 non-null   int64  \n",
      "dtypes: float64(1), int64(5), object(9)\n",
      "memory usage: 265.3+ KB\n"
     ]
    }
   ],
   "source": [
    "dataset.info()"
   ]
  },
  {
   "cell_type": "markdown",
   "id": "0d901f40",
   "metadata": {},
   "source": [
    "### Renaming invalid column names"
   ]
  },
  {
   "cell_type": "markdown",
   "id": "535b886c",
   "metadata": {},
   "source": [
    "- fixing the incorrect column names and replace all the spaces in column names with underscores (‘_’) for easy data manipulation in the later stages"
   ]
  },
  {
   "cell_type": "code",
   "execution_count": 387,
   "id": "847fd4ea",
   "metadata": {},
   "outputs": [],
   "source": [
    "dataset = dataset.rename(columns={'CRIMINAL\\nCASES': 'CRIMINAL_CASES', 'GENERAL\\nVOTES': 'GENERAL_VOTES', 'POSTAL\\nVOTES': 'POSTAL_VOTES', 'TOTAL\\nVOTES': 'TOTAL_VOTES','TOTAL ELECTORS': 'TOTAL_ELECTORS'})"
   ]
  },
  {
   "cell_type": "code",
   "execution_count": 388,
   "id": "c59b647f",
   "metadata": {
    "scrolled": true
   },
   "outputs": [
    {
     "data": {
      "text/html": [
       "<div>\n",
       "<style scoped>\n",
       "    .dataframe tbody tr th:only-of-type {\n",
       "        vertical-align: middle;\n",
       "    }\n",
       "\n",
       "    .dataframe tbody tr th {\n",
       "        vertical-align: top;\n",
       "    }\n",
       "\n",
       "    .dataframe thead th {\n",
       "        text-align: right;\n",
       "    }\n",
       "</style>\n",
       "<table border=\"1\" class=\"dataframe\">\n",
       "  <thead>\n",
       "    <tr style=\"text-align: right;\">\n",
       "      <th></th>\n",
       "      <th>WINNER</th>\n",
       "      <th>AGE</th>\n",
       "      <th>GENERAL_VOTES</th>\n",
       "      <th>POSTAL_VOTES</th>\n",
       "      <th>TOTAL_VOTES</th>\n",
       "      <th>TOTAL_ELECTORS</th>\n",
       "    </tr>\n",
       "  </thead>\n",
       "  <tbody>\n",
       "    <tr>\n",
       "      <th>count</th>\n",
       "      <td>2263.000000</td>\n",
       "      <td>2018.000000</td>\n",
       "      <td>2.263000e+03</td>\n",
       "      <td>2263.000000</td>\n",
       "      <td>2.263000e+03</td>\n",
       "      <td>2.263000e+03</td>\n",
       "    </tr>\n",
       "    <tr>\n",
       "      <th>mean</th>\n",
       "      <td>0.238179</td>\n",
       "      <td>52.273538</td>\n",
       "      <td>2.615991e+05</td>\n",
       "      <td>990.710561</td>\n",
       "      <td>2.625898e+05</td>\n",
       "      <td>1.658016e+06</td>\n",
       "    </tr>\n",
       "    <tr>\n",
       "      <th>std</th>\n",
       "      <td>0.426064</td>\n",
       "      <td>11.869373</td>\n",
       "      <td>2.549906e+05</td>\n",
       "      <td>1602.839174</td>\n",
       "      <td>2.559822e+05</td>\n",
       "      <td>3.145187e+05</td>\n",
       "    </tr>\n",
       "    <tr>\n",
       "      <th>min</th>\n",
       "      <td>0.000000</td>\n",
       "      <td>25.000000</td>\n",
       "      <td>1.339000e+03</td>\n",
       "      <td>0.000000</td>\n",
       "      <td>1.342000e+03</td>\n",
       "      <td>5.518900e+04</td>\n",
       "    </tr>\n",
       "    <tr>\n",
       "      <th>25%</th>\n",
       "      <td>0.000000</td>\n",
       "      <td>43.250000</td>\n",
       "      <td>2.103450e+04</td>\n",
       "      <td>57.000000</td>\n",
       "      <td>2.116250e+04</td>\n",
       "      <td>1.530014e+06</td>\n",
       "    </tr>\n",
       "    <tr>\n",
       "      <th>50%</th>\n",
       "      <td>0.000000</td>\n",
       "      <td>52.000000</td>\n",
       "      <td>1.539340e+05</td>\n",
       "      <td>316.000000</td>\n",
       "      <td>1.544890e+05</td>\n",
       "      <td>1.679030e+06</td>\n",
       "    </tr>\n",
       "    <tr>\n",
       "      <th>75%</th>\n",
       "      <td>0.000000</td>\n",
       "      <td>61.000000</td>\n",
       "      <td>4.858040e+05</td>\n",
       "      <td>1385.000000</td>\n",
       "      <td>4.872315e+05</td>\n",
       "      <td>1.816857e+06</td>\n",
       "    </tr>\n",
       "    <tr>\n",
       "      <th>max</th>\n",
       "      <td>1.000000</td>\n",
       "      <td>86.000000</td>\n",
       "      <td>1.066824e+06</td>\n",
       "      <td>19367.000000</td>\n",
       "      <td>1.068569e+06</td>\n",
       "      <td>3.150313e+06</td>\n",
       "    </tr>\n",
       "  </tbody>\n",
       "</table>\n",
       "</div>"
      ],
      "text/plain": [
       "            WINNER          AGE  GENERAL_VOTES  POSTAL_VOTES   TOTAL_VOTES  \\\n",
       "count  2263.000000  2018.000000   2.263000e+03   2263.000000  2.263000e+03   \n",
       "mean      0.238179    52.273538   2.615991e+05    990.710561  2.625898e+05   \n",
       "std       0.426064    11.869373   2.549906e+05   1602.839174  2.559822e+05   \n",
       "min       0.000000    25.000000   1.339000e+03      0.000000  1.342000e+03   \n",
       "25%       0.000000    43.250000   2.103450e+04     57.000000  2.116250e+04   \n",
       "50%       0.000000    52.000000   1.539340e+05    316.000000  1.544890e+05   \n",
       "75%       0.000000    61.000000   4.858040e+05   1385.000000  4.872315e+05   \n",
       "max       1.000000    86.000000   1.066824e+06  19367.000000  1.068569e+06   \n",
       "\n",
       "       TOTAL_ELECTORS  \n",
       "count    2.263000e+03  \n",
       "mean     1.658016e+06  \n",
       "std      3.145187e+05  \n",
       "min      5.518900e+04  \n",
       "25%      1.530014e+06  \n",
       "50%      1.679030e+06  \n",
       "75%      1.816857e+06  \n",
       "max      3.150313e+06  "
      ]
     },
     "execution_count": 388,
     "metadata": {},
     "output_type": "execute_result"
    }
   ],
   "source": [
    "dataset.describe()"
   ]
  },
  {
   "cell_type": "markdown",
   "id": "376b2acd",
   "metadata": {},
   "source": [
    "# 2)Pre-processing"
   ]
  },
  {
   "cell_type": "markdown",
   "id": "e2f595d8",
   "metadata": {},
   "source": [
    "### Checking for missing values"
   ]
  },
  {
   "cell_type": "code",
   "execution_count": 389,
   "id": "b939804f",
   "metadata": {},
   "outputs": [
    {
     "data": {
      "text/plain": [
       "STATE               0\n",
       "CONSTITUENCY        0\n",
       "NAME                0\n",
       "WINNER              0\n",
       "PARTY               0\n",
       "SYMBOL            245\n",
       "GENDER            245\n",
       "CRIMINAL_CASES    245\n",
       "AGE               245\n",
       "CATEGORY          245\n",
       "EDUCATION         245\n",
       "GENERAL_VOTES       0\n",
       "POSTAL_VOTES        0\n",
       "TOTAL_VOTES         0\n",
       "TOTAL_ELECTORS      0\n",
       "dtype: int64"
      ]
     },
     "execution_count": 389,
     "metadata": {},
     "output_type": "execute_result"
    }
   ],
   "source": [
    "dataset.isna().sum()"
   ]
  },
  {
   "cell_type": "markdown",
   "id": "aef7ce52",
   "metadata": {},
   "source": [
    "- Almost 10 percentage of the data seems missing"
   ]
  },
  {
   "cell_type": "markdown",
   "id": "03c1f8e4",
   "metadata": {},
   "source": [
    "### Some data cleaning and manipulation"
   ]
  },
  {
   "cell_type": "markdown",
   "id": "f0a01627",
   "metadata": {},
   "source": [
    "- Drop rows with NA values"
   ]
  },
  {
   "cell_type": "code",
   "execution_count": 390,
   "id": "416fc835",
   "metadata": {},
   "outputs": [],
   "source": [
    "dataset = dataset[dataset['GENDER'].notna()]"
   ]
  },
  {
   "cell_type": "markdown",
   "id": "e06dd5e4",
   "metadata": {},
   "source": [
    "### Replacing Nil values with 0"
   ]
  },
  {
   "cell_type": "code",
   "execution_count": 391,
   "id": "4a592466",
   "metadata": {},
   "outputs": [],
   "source": [
    "dataset['CRIMINAL_CASES'] = dataset['CRIMINAL_CASES'].replace(['Not Available'], '0')"
   ]
  },
  {
   "cell_type": "markdown",
   "id": "30c7673a",
   "metadata": {},
   "source": [
    "- Cleaning column values. removing unwanted symbols ans new line charachters from the table"
   ]
  },
  {
   "cell_type": "code",
   "execution_count": 392,
   "id": "5f572b00",
   "metadata": {},
   "outputs": [],
   "source": [
    "dataset['CRIMINAL_CASES'] = dataset['CRIMINAL_CASES'].astype(str).astype(int)"
   ]
  },
  {
   "cell_type": "code",
   "execution_count": 393,
   "id": "6685a5c2",
   "metadata": {},
   "outputs": [
    {
     "name": "stdout",
     "output_type": "stream",
     "text": [
      "<class 'pandas.core.frame.DataFrame'>\n",
      "Int64Index: 2018 entries, 0 to 2261\n",
      "Data columns (total 15 columns):\n",
      " #   Column          Non-Null Count  Dtype  \n",
      "---  ------          --------------  -----  \n",
      " 0   STATE           2018 non-null   object \n",
      " 1   CONSTITUENCY    2018 non-null   object \n",
      " 2   NAME            2018 non-null   object \n",
      " 3   WINNER          2018 non-null   int64  \n",
      " 4   PARTY           2018 non-null   object \n",
      " 5   SYMBOL          2018 non-null   object \n",
      " 6   GENDER          2018 non-null   object \n",
      " 7   CRIMINAL_CASES  2018 non-null   int32  \n",
      " 8   AGE             2018 non-null   float64\n",
      " 9   CATEGORY        2018 non-null   object \n",
      " 10  EDUCATION       2018 non-null   object \n",
      " 11  GENERAL_VOTES   2018 non-null   int64  \n",
      " 12  POSTAL_VOTES    2018 non-null   int64  \n",
      " 13  TOTAL_VOTES     2018 non-null   int64  \n",
      " 14  TOTAL_ELECTORS  2018 non-null   int64  \n",
      "dtypes: float64(1), int32(1), int64(5), object(8)\n",
      "memory usage: 244.4+ KB\n"
     ]
    }
   ],
   "source": [
    "dataset.info()"
   ]
  },
  {
   "cell_type": "code",
   "execution_count": 394,
   "id": "7072075b",
   "metadata": {},
   "outputs": [
    {
     "data": {
      "text/plain": [
       "STATE             0\n",
       "CONSTITUENCY      0\n",
       "NAME              0\n",
       "WINNER            0\n",
       "PARTY             0\n",
       "SYMBOL            0\n",
       "GENDER            0\n",
       "CRIMINAL_CASES    0\n",
       "AGE               0\n",
       "CATEGORY          0\n",
       "EDUCATION         0\n",
       "GENERAL_VOTES     0\n",
       "POSTAL_VOTES      0\n",
       "TOTAL_VOTES       0\n",
       "TOTAL_ELECTORS    0\n",
       "dtype: int64"
      ]
     },
     "execution_count": 394,
     "metadata": {},
     "output_type": "execute_result"
    }
   ],
   "source": [
    "dataset.isna().sum()"
   ]
  },
  {
   "cell_type": "code",
   "execution_count": 395,
   "id": "5b1814f6",
   "metadata": {},
   "outputs": [
    {
     "data": {
      "text/html": [
       "<div>\n",
       "<style scoped>\n",
       "    .dataframe tbody tr th:only-of-type {\n",
       "        vertical-align: middle;\n",
       "    }\n",
       "\n",
       "    .dataframe tbody tr th {\n",
       "        vertical-align: top;\n",
       "    }\n",
       "\n",
       "    .dataframe thead th {\n",
       "        text-align: right;\n",
       "    }\n",
       "</style>\n",
       "<table border=\"1\" class=\"dataframe\">\n",
       "  <thead>\n",
       "    <tr style=\"text-align: right;\">\n",
       "      <th></th>\n",
       "      <th>STATE</th>\n",
       "      <th>CONSTITUENCY</th>\n",
       "      <th>NAME</th>\n",
       "      <th>WINNER</th>\n",
       "      <th>PARTY</th>\n",
       "      <th>SYMBOL</th>\n",
       "      <th>GENDER</th>\n",
       "      <th>CRIMINAL_CASES</th>\n",
       "      <th>AGE</th>\n",
       "      <th>CATEGORY</th>\n",
       "      <th>EDUCATION</th>\n",
       "      <th>GENERAL_VOTES</th>\n",
       "      <th>POSTAL_VOTES</th>\n",
       "      <th>TOTAL_VOTES</th>\n",
       "      <th>TOTAL_ELECTORS</th>\n",
       "    </tr>\n",
       "  </thead>\n",
       "  <tbody>\n",
       "    <tr>\n",
       "      <th>0</th>\n",
       "      <td>Telangana</td>\n",
       "      <td>ADILABAD</td>\n",
       "      <td>SOYAM BAPU RAO</td>\n",
       "      <td>1</td>\n",
       "      <td>BJP</td>\n",
       "      <td>Lotus</td>\n",
       "      <td>MALE</td>\n",
       "      <td>52</td>\n",
       "      <td>52.0</td>\n",
       "      <td>ST</td>\n",
       "      <td>12th Pass</td>\n",
       "      <td>376892</td>\n",
       "      <td>482</td>\n",
       "      <td>377374</td>\n",
       "      <td>1489790</td>\n",
       "    </tr>\n",
       "    <tr>\n",
       "      <th>1</th>\n",
       "      <td>Telangana</td>\n",
       "      <td>ADILABAD</td>\n",
       "      <td>Godam Nagesh</td>\n",
       "      <td>0</td>\n",
       "      <td>TRS</td>\n",
       "      <td>Car</td>\n",
       "      <td>MALE</td>\n",
       "      <td>0</td>\n",
       "      <td>54.0</td>\n",
       "      <td>ST</td>\n",
       "      <td>Post Graduate</td>\n",
       "      <td>318665</td>\n",
       "      <td>149</td>\n",
       "      <td>318814</td>\n",
       "      <td>1489790</td>\n",
       "    </tr>\n",
       "    <tr>\n",
       "      <th>2</th>\n",
       "      <td>Telangana</td>\n",
       "      <td>ADILABAD</td>\n",
       "      <td>RATHOD RAMESH</td>\n",
       "      <td>0</td>\n",
       "      <td>INC</td>\n",
       "      <td>Hand</td>\n",
       "      <td>MALE</td>\n",
       "      <td>3</td>\n",
       "      <td>52.0</td>\n",
       "      <td>ST</td>\n",
       "      <td>12th Pass</td>\n",
       "      <td>314057</td>\n",
       "      <td>181</td>\n",
       "      <td>314238</td>\n",
       "      <td>1489790</td>\n",
       "    </tr>\n",
       "    <tr>\n",
       "      <th>4</th>\n",
       "      <td>Uttar Pradesh</td>\n",
       "      <td>AGRA</td>\n",
       "      <td>Satyapal Singh Baghel</td>\n",
       "      <td>1</td>\n",
       "      <td>BJP</td>\n",
       "      <td>Lotus</td>\n",
       "      <td>MALE</td>\n",
       "      <td>5</td>\n",
       "      <td>58.0</td>\n",
       "      <td>SC</td>\n",
       "      <td>Doctorate</td>\n",
       "      <td>644459</td>\n",
       "      <td>2416</td>\n",
       "      <td>646875</td>\n",
       "      <td>1937690</td>\n",
       "    </tr>\n",
       "    <tr>\n",
       "      <th>5</th>\n",
       "      <td>Uttar Pradesh</td>\n",
       "      <td>AGRA</td>\n",
       "      <td>Manoj Kumar Soni</td>\n",
       "      <td>0</td>\n",
       "      <td>BSP</td>\n",
       "      <td>Elephant</td>\n",
       "      <td>MALE</td>\n",
       "      <td>0</td>\n",
       "      <td>47.0</td>\n",
       "      <td>SC</td>\n",
       "      <td>Post Graduate</td>\n",
       "      <td>434199</td>\n",
       "      <td>1130</td>\n",
       "      <td>435329</td>\n",
       "      <td>1937690</td>\n",
       "    </tr>\n",
       "  </tbody>\n",
       "</table>\n",
       "</div>"
      ],
      "text/plain": [
       "           STATE CONSTITUENCY                   NAME  WINNER PARTY    SYMBOL  \\\n",
       "0      Telangana     ADILABAD         SOYAM BAPU RAO       1   BJP     Lotus   \n",
       "1      Telangana     ADILABAD           Godam Nagesh       0   TRS       Car   \n",
       "2      Telangana     ADILABAD          RATHOD RAMESH       0   INC      Hand   \n",
       "4  Uttar Pradesh         AGRA  Satyapal Singh Baghel       1   BJP     Lotus   \n",
       "5  Uttar Pradesh         AGRA       Manoj Kumar Soni       0   BSP  Elephant   \n",
       "\n",
       "  GENDER  CRIMINAL_CASES   AGE CATEGORY      EDUCATION  GENERAL_VOTES  \\\n",
       "0   MALE              52  52.0       ST      12th Pass         376892   \n",
       "1   MALE               0  54.0       ST  Post Graduate         318665   \n",
       "2   MALE               3  52.0       ST      12th Pass         314057   \n",
       "4   MALE               5  58.0       SC      Doctorate         644459   \n",
       "5   MALE               0  47.0       SC  Post Graduate         434199   \n",
       "\n",
       "   POSTAL_VOTES  TOTAL_VOTES  TOTAL_ELECTORS  \n",
       "0           482       377374         1489790  \n",
       "1           149       318814         1489790  \n",
       "2           181       314238         1489790  \n",
       "4          2416       646875         1937690  \n",
       "5          1130       435329         1937690  "
      ]
     },
     "execution_count": 395,
     "metadata": {},
     "output_type": "execute_result"
    }
   ],
   "source": [
    "dataset.head()"
   ]
  },
  {
   "cell_type": "markdown",
   "id": "c49e6abc",
   "metadata": {},
   "source": [
    "- The data set is somewhat better than the raw form. we filled missing values and cleaned it for further analysis"
   ]
  },
  {
   "cell_type": "markdown",
   "id": "3d68d8ac",
   "metadata": {},
   "source": [
    "### Outliers detection and handling\n"
   ]
  },
  {
   "cell_type": "markdown",
   "id": "b8adcaa2",
   "metadata": {},
   "source": [
    "#### a)AGE"
   ]
  },
  {
   "cell_type": "code",
   "execution_count": 396,
   "id": "9806e15f",
   "metadata": {},
   "outputs": [
    {
     "data": {
      "text/plain": [
       "Text(0.5, 1.0, 'Boxplot of Age')"
      ]
     },
     "execution_count": 396,
     "metadata": {},
     "output_type": "execute_result"
    },
    {
     "data": {
      "image/png": "[encoded data removed]",
      "text/plain": [
       "<Figure size 432x288 with 1 Axes>"
      ]
     },
     "metadata": {
      "needs_background": "light"
     },
     "output_type": "display_data"
    }
   ],
   "source": [
    "plt.boxplot(dataset[\"AGE\"])\n",
    "plt.title(\"Boxplot of Age\")"
   ]
  },
  {
   "cell_type": "markdown",
   "id": "d4921eb9",
   "metadata": {},
   "source": [
    "There is no outliers"
   ]
  },
  {
   "cell_type": "markdown",
   "id": "d5421f02",
   "metadata": {},
   "source": [
    "#### b)TOTAL_ELECTORS"
   ]
  },
  {
   "cell_type": "code",
   "execution_count": 397,
   "id": "5e32a564",
   "metadata": {},
   "outputs": [
    {
     "data": {
      "text/plain": [
       "Text(0.5, 1.0, 'Boxplot of TOTAL_ELECTORS')"
      ]
     },
     "execution_count": 397,
     "metadata": {},
     "output_type": "execute_result"
    },
    {
     "data": {
      "image/png": "[encoded data removed]",
      "text/plain": [
       "<Figure size 432x288 with 1 Axes>"
      ]
     },
     "metadata": {
      "needs_background": "light"
     },
     "output_type": "display_data"
    }
   ],
   "source": [
    "plt.boxplot(dataset[\"TOTAL_ELECTORS\"])\n",
    "plt.title(\"Boxplot of TOTAL_ELECTORS\")"
   ]
  },
  {
   "cell_type": "code",
   "execution_count": 398,
   "id": "1fddbaa6",
   "metadata": {},
   "outputs": [
    {
     "name": "stdout",
     "output_type": "stream",
     "text": [
      "1530404.0 1679891.0 1823144.5\n"
     ]
    },
    {
     "data": {
      "text/plain": [
       "[318471,\n",
       " 318471,\n",
       " 318471,\n",
       " 318471,\n",
       " 318471,\n",
       " 339788,\n",
       " 339788,\n",
       " 339788,\n",
       " 339788,\n",
       " 339788,\n",
       " 463775,\n",
       " 463775,\n",
       " 463775,\n",
       " 463775,\n",
       " 463775,\n",
       " 795945,\n",
       " 795945,\n",
       " 795945,\n",
       " 795945,\n",
       " 795945,\n",
       " 2849250,\n",
       " 2849250,\n",
       " 2497458,\n",
       " 2497458,\n",
       " 2497458,\n",
       " 646729,\n",
       " 646729,\n",
       " 646729,\n",
       " 646729,\n",
       " 2443112,\n",
       " 2443112,\n",
       " 2443112,\n",
       " 250029,\n",
       " 250029,\n",
       " 250029,\n",
       " 250029,\n",
       " 250029,\n",
       " 250029,\n",
       " 121740,\n",
       " 121740,\n",
       " 121740,\n",
       " 2302960,\n",
       " 2302960,\n",
       " 2302960,\n",
       " 2728978,\n",
       " 2728978,\n",
       " 2728978,\n",
       " 2350580,\n",
       " 2350580,\n",
       " 937464,\n",
       " 937464,\n",
       " 937464,\n",
       " 937464,\n",
       " 937464,\n",
       " 179232,\n",
       " 179232,\n",
       " 179232,\n",
       " 179232,\n",
       " 55189,\n",
       " 55189,\n",
       " 55189,\n",
       " 3150313,\n",
       " 3150313,\n",
       " 3150313,\n",
       " 3150313,\n",
       " 2298080,\n",
       " 2298080,\n",
       " 2298080,\n",
       " 792464,\n",
       " 792464,\n",
       " 792464,\n",
       " 792464,\n",
       " 792464,\n",
       " 2290492,\n",
       " 2290492,\n",
       " 2290492,\n",
       " 2290492,\n",
       " 556761,\n",
       " 556761,\n",
       " 556761,\n",
       " 2378995,\n",
       " 2378995,\n",
       " 2378995,\n",
       " 1022099,\n",
       " 1022099,\n",
       " 1022099,\n",
       " 1022099,\n",
       " 1022099,\n",
       " 973410,\n",
       " 973410,\n",
       " 973410,\n",
       " 973410,\n",
       " 434128,\n",
       " 434128,\n",
       " 434128,\n",
       " 434128,\n",
       " 579352,\n",
       " 579352,\n",
       " 579352,\n",
       " 2370903,\n",
       " 2370903,\n",
       " 2370903,\n",
       " 716990,\n",
       " 716990,\n",
       " 716990,\n",
       " 2371644,\n",
       " 2371644,\n",
       " 2371644]"
      ]
     },
     "execution_count": 398,
     "metadata": {},
     "output_type": "execute_result"
    }
   ],
   "source": [
    "Q1=np.percentile(dataset[\"TOTAL_ELECTORS\"],25,interpolation=\"midpoint\")\n",
    "Q2=np.percentile(dataset[\"TOTAL_ELECTORS\"],50,interpolation=\"midpoint\")\n",
    "Q3=np.percentile(dataset[\"TOTAL_ELECTORS\"],75,interpolation=\"midpoint\")\n",
    "print(Q1,Q2,Q3)\n",
    "IQR=Q3-Q1\n",
    "low_lim=Q1-1.5*IQR\n",
    "up_lim=Q3+1.5*IQR\n",
    "outlier=[]\n",
    "for x in dataset[\"TOTAL_ELECTORS\"]:\n",
    "    if(x>up_lim)or(x<low_lim):\n",
    "        outlier.append(x) \n",
    "outlier        "
   ]
  },
  {
   "cell_type": "code",
   "execution_count": 399,
   "id": "09dbaa17",
   "metadata": {},
   "outputs": [],
   "source": [
    "median=float(np.median(dataset[\"TOTAL_ELECTORS\"]))\n",
    "for i in outlier:\n",
    "    dataset.loc[dataset[\"TOTAL_ELECTORS\"]==i,\"TOTAL_ELECTORS\"]=np.nan\n",
    "dataset[\"TOTAL_ELECTORS\"].fillna(median,inplace=True)"
   ]
  },
  {
   "cell_type": "code",
   "execution_count": 400,
   "id": "ecfa0195",
   "metadata": {},
   "outputs": [
    {
     "data": {
      "text/plain": [
       "Text(0.5, 1.0, 'Boxplot of TOTAL_ELECTORS')"
      ]
     },
     "execution_count": 400,
     "metadata": {},
     "output_type": "execute_result"
    },
    {
     "data": {
      "image/png": "[encoded data removed]",
      "text/plain": [
       "<Figure size 432x288 with 1 Axes>"
      ]
     },
     "metadata": {
      "needs_background": "light"
     },
     "output_type": "display_data"
    }
   ],
   "source": [
    "plt.boxplot(dataset[\"TOTAL_ELECTORS\"])\n",
    "plt.title(\"Boxplot of TOTAL_ELECTORS\")"
   ]
  },
  {
   "cell_type": "markdown",
   "id": "ca2d8bd2",
   "metadata": {},
   "source": [
    "#### c)POSTAL_VOTES"
   ]
  },
  {
   "cell_type": "code",
   "execution_count": 401,
   "id": "5a436b2e",
   "metadata": {},
   "outputs": [
    {
     "data": {
      "text/plain": [
       "Text(0.5, 1.0, 'Boxplot of POSTAL_VOTES ')"
      ]
     },
     "execution_count": 401,
     "metadata": {},
     "output_type": "execute_result"
    },
    {
     "data": {
      "image/png": "[encoded data removed]",
      "text/plain": [
       "<Figure size 432x288 with 1 Axes>"
      ]
     },
     "metadata": {
      "needs_background": "light"
     },
     "output_type": "display_data"
    }
   ],
   "source": [
    "plt.boxplot(dataset[\"POSTAL_VOTES\"])\n",
    "plt.title(\"Boxplot of POSTAL_VOTES \")"
   ]
  },
  {
   "cell_type": "code",
   "execution_count": 402,
   "id": "d5db961a",
   "metadata": {},
   "outputs": [
    {
     "name": "stdout",
     "output_type": "stream",
     "text": [
      "97.0 463.0 1545.0\n"
     ]
    },
    {
     "data": {
      "text/plain": [
       "[7699,\n",
       " 3822,\n",
       " 4024,\n",
       " 3985,\n",
       " 4410,\n",
       " 14196,\n",
       " 9621,\n",
       " 3955,\n",
       " 4307,\n",
       " 5502,\n",
       " 4370,\n",
       " 6374,\n",
       " 4629,\n",
       " 5316,\n",
       " 9302,\n",
       " 6158,\n",
       " 5075,\n",
       " 6007,\n",
       " 4789,\n",
       " 4171,\n",
       " 4616,\n",
       " 5005,\n",
       " 4091,\n",
       " 4564,\n",
       " 6699,\n",
       " 6001,\n",
       " 4704,\n",
       " 10974,\n",
       " 4125,\n",
       " 4363,\n",
       " 3785,\n",
       " 5467,\n",
       " 4147,\n",
       " 6426,\n",
       " 5410,\n",
       " 6678,\n",
       " 3975,\n",
       " 4662,\n",
       " 4353,\n",
       " 4699,\n",
       " 4433,\n",
       " 19367,\n",
       " 5726,\n",
       " 7542,\n",
       " 4305,\n",
       " 13880,\n",
       " 4624,\n",
       " 4500,\n",
       " 6863,\n",
       " 4252,\n",
       " 4609,\n",
       " 5593,\n",
       " 8506,\n",
       " 4738,\n",
       " 4156,\n",
       " 4364,\n",
       " 17852,\n",
       " 4004,\n",
       " 4087,\n",
       " 15169,\n",
       " 7722,\n",
       " 4315,\n",
       " 5281,\n",
       " 5532,\n",
       " 4752,\n",
       " 3917,\n",
       " 13085,\n",
       " 4179,\n",
       " 3980,\n",
       " 3905,\n",
       " 5145,\n",
       " 5258,\n",
       " 8748,\n",
       " 3951,\n",
       " 3833,\n",
       " 4245,\n",
       " 3869,\n",
       " 4555,\n",
       " 7022,\n",
       " 4658,\n",
       " 4520,\n",
       " 5864,\n",
       " 3900,\n",
       " 5048,\n",
       " 4858,\n",
       " 3728,\n",
       " 6816,\n",
       " 5688,\n",
       " 9858,\n",
       " 8064,\n",
       " 5035,\n",
       " 4327,\n",
       " 9332,\n",
       " 5113,\n",
       " 4835,\n",
       " 6692,\n",
       " 3870,\n",
       " 6934,\n",
       " 4217,\n",
       " 4349,\n",
       " 7603,\n",
       " 5486,\n",
       " 4161,\n",
       " 3849,\n",
       " 5380,\n",
       " 4877,\n",
       " 10772,\n",
       " 4275,\n",
       " 5779,\n",
       " 5331,\n",
       " 5331,\n",
       " 6960,\n",
       " 4887,\n",
       " 9213,\n",
       " 5810,\n",
       " 5357,\n",
       " 5618,\n",
       " 5404,\n",
       " 4953,\n",
       " 3896,\n",
       " 4553,\n",
       " 3854,\n",
       " 8905,\n",
       " 6216,\n",
       " 4952]"
      ]
     },
     "execution_count": 402,
     "metadata": {},
     "output_type": "execute_result"
    }
   ],
   "source": [
    "Q1=np.percentile(dataset[\"POSTAL_VOTES\"],25,interpolation=\"midpoint\")\n",
    "Q2=np.percentile(dataset[\"POSTAL_VOTES\"],50,interpolation=\"midpoint\")\n",
    "Q3=np.percentile(dataset[\"POSTAL_VOTES\"],75,interpolation=\"midpoint\")\n",
    "print(Q1,Q2,Q3)\n",
    "IQR=Q3-Q1\n",
    "low_lim=Q1-1.5*IQR\n",
    "up_lim=Q3+1.5*IQR\n",
    "outlier=[]\n",
    "for x in dataset[\"POSTAL_VOTES\"]:\n",
    "    if(x>up_lim)or(x<low_lim):\n",
    "        outlier.append(x) \n",
    "outlier        "
   ]
  },
  {
   "cell_type": "code",
   "execution_count": 403,
   "id": "0d91b813",
   "metadata": {},
   "outputs": [],
   "source": [
    "median=float(np.median(dataset[\"POSTAL_VOTES\"]))\n",
    "for i in outlier:\n",
    "    dataset.loc[dataset[\"POSTAL_VOTES\"]==i,\"POSTAL_VOTES\"]=np.nan\n",
    "dataset[\"POSTAL_VOTES\"].fillna(median,inplace=True)"
   ]
  },
  {
   "cell_type": "code",
   "execution_count": 404,
   "id": "5e8a779b",
   "metadata": {},
   "outputs": [
    {
     "data": {
      "text/plain": [
       "Text(0.5, 1.0, 'Boxplot of POSTAL_VOTES ')"
      ]
     },
     "execution_count": 404,
     "metadata": {},
     "output_type": "execute_result"
    },
    {
     "data": {
      "image/png": "[encoded data removed]",
      "text/plain": [
       "<Figure size 432x288 with 1 Axes>"
      ]
     },
     "metadata": {
      "needs_background": "light"
     },
     "output_type": "display_data"
    }
   ],
   "source": [
    "plt.boxplot(dataset[\"POSTAL_VOTES\"])\n",
    "plt.title(\"Boxplot of POSTAL_VOTES \")"
   ]
  },
  {
   "cell_type": "markdown",
   "id": "166f33a6",
   "metadata": {},
   "source": [
    "#### d)GENERAL_VOTES"
   ]
  },
  {
   "cell_type": "code",
   "execution_count": 405,
   "id": "ffada39c",
   "metadata": {},
   "outputs": [
    {
     "data": {
      "text/plain": [
       "Text(0.5, 1.0, 'Boxplot of GENERAL_VOTES ')"
      ]
     },
     "execution_count": 405,
     "metadata": {},
     "output_type": "execute_result"
    },
    {
     "data": {
      "image/png": "[encoded data removed]",
      "text/plain": [
       "<Figure size 432x288 with 1 Axes>"
      ]
     },
     "metadata": {
      "needs_background": "light"
     },
     "output_type": "display_data"
    }
   ],
   "source": [
    "plt.boxplot(dataset[\"GENERAL_VOTES\"])\n",
    "plt.title(\"Boxplot of GENERAL_VOTES \")"
   ]
  },
  {
   "cell_type": "markdown",
   "id": "6cb5ee02",
   "metadata": {},
   "source": [
    "There is no outliers are present"
   ]
  },
  {
   "cell_type": "markdown",
   "id": "22f43554",
   "metadata": {},
   "source": [
    "### Encoding"
   ]
  },
  {
   "cell_type": "markdown",
   "id": "218f3269",
   "metadata": {},
   "source": [
    "- encoding the non-numerical columns to numerical columns using sklearn LabelEncoder."
   ]
  },
  {
   "cell_type": "code",
   "execution_count": 406,
   "id": "ece1077a",
   "metadata": {},
   "outputs": [],
   "source": [
    "lblEncoder_symbol = LabelEncoder()\n",
    "lblEncoder_symbol.fit(dataset['SYMBOL'])\n",
    "dataset['SYMBOL'] = lblEncoder_symbol.transform(dataset['SYMBOL'])\n",
    "\n",
    "lblEncoder_gender = LabelEncoder()\n",
    "lblEncoder_gender.fit(dataset['GENDER'])\n",
    "dataset['GENDER'] = lblEncoder_gender.transform(dataset['GENDER'])\n",
    "\n",
    "lblEncoder_category = LabelEncoder()\n",
    "lblEncoder_category.fit(dataset['CATEGORY'])\n",
    "dataset['CATEGORY'] = lblEncoder_category.transform(dataset['CATEGORY'])"
   ]
  },
  {
   "cell_type": "code",
   "execution_count": 407,
   "id": "2b5f1ea5",
   "metadata": {},
   "outputs": [
    {
     "data": {
      "text/html": [
       "<div>\n",
       "<style scoped>\n",
       "    .dataframe tbody tr th:only-of-type {\n",
       "        vertical-align: middle;\n",
       "    }\n",
       "\n",
       "    .dataframe tbody tr th {\n",
       "        vertical-align: top;\n",
       "    }\n",
       "\n",
       "    .dataframe thead th {\n",
       "        text-align: right;\n",
       "    }\n",
       "</style>\n",
       "<table border=\"1\" class=\"dataframe\">\n",
       "  <thead>\n",
       "    <tr style=\"text-align: right;\">\n",
       "      <th></th>\n",
       "      <th>STATE</th>\n",
       "      <th>CONSTITUENCY</th>\n",
       "      <th>NAME</th>\n",
       "      <th>WINNER</th>\n",
       "      <th>PARTY</th>\n",
       "      <th>SYMBOL</th>\n",
       "      <th>GENDER</th>\n",
       "      <th>CRIMINAL_CASES</th>\n",
       "      <th>AGE</th>\n",
       "      <th>CATEGORY</th>\n",
       "      <th>EDUCATION</th>\n",
       "      <th>GENERAL_VOTES</th>\n",
       "      <th>POSTAL_VOTES</th>\n",
       "      <th>TOTAL_VOTES</th>\n",
       "      <th>TOTAL_ELECTORS</th>\n",
       "    </tr>\n",
       "  </thead>\n",
       "  <tbody>\n",
       "    <tr>\n",
       "      <th>0</th>\n",
       "      <td>Telangana</td>\n",
       "      <td>ADILABAD</td>\n",
       "      <td>SOYAM BAPU RAO</td>\n",
       "      <td>1</td>\n",
       "      <td>BJP</td>\n",
       "      <td>80</td>\n",
       "      <td>1</td>\n",
       "      <td>52</td>\n",
       "      <td>52.0</td>\n",
       "      <td>2</td>\n",
       "      <td>12th Pass</td>\n",
       "      <td>376892</td>\n",
       "      <td>482.0</td>\n",
       "      <td>377374</td>\n",
       "      <td>1489790.0</td>\n",
       "    </tr>\n",
       "    <tr>\n",
       "      <th>1</th>\n",
       "      <td>Telangana</td>\n",
       "      <td>ADILABAD</td>\n",
       "      <td>Godam Nagesh</td>\n",
       "      <td>0</td>\n",
       "      <td>TRS</td>\n",
       "      <td>32</td>\n",
       "      <td>1</td>\n",
       "      <td>0</td>\n",
       "      <td>54.0</td>\n",
       "      <td>2</td>\n",
       "      <td>Post Graduate</td>\n",
       "      <td>318665</td>\n",
       "      <td>149.0</td>\n",
       "      <td>318814</td>\n",
       "      <td>1489790.0</td>\n",
       "    </tr>\n",
       "    <tr>\n",
       "      <th>2</th>\n",
       "      <td>Telangana</td>\n",
       "      <td>ADILABAD</td>\n",
       "      <td>RATHOD RAMESH</td>\n",
       "      <td>0</td>\n",
       "      <td>INC</td>\n",
       "      <td>66</td>\n",
       "      <td>1</td>\n",
       "      <td>3</td>\n",
       "      <td>52.0</td>\n",
       "      <td>2</td>\n",
       "      <td>12th Pass</td>\n",
       "      <td>314057</td>\n",
       "      <td>181.0</td>\n",
       "      <td>314238</td>\n",
       "      <td>1489790.0</td>\n",
       "    </tr>\n",
       "    <tr>\n",
       "      <th>4</th>\n",
       "      <td>Uttar Pradesh</td>\n",
       "      <td>AGRA</td>\n",
       "      <td>Satyapal Singh Baghel</td>\n",
       "      <td>1</td>\n",
       "      <td>BJP</td>\n",
       "      <td>80</td>\n",
       "      <td>1</td>\n",
       "      <td>5</td>\n",
       "      <td>58.0</td>\n",
       "      <td>1</td>\n",
       "      <td>Doctorate</td>\n",
       "      <td>644459</td>\n",
       "      <td>2416.0</td>\n",
       "      <td>646875</td>\n",
       "      <td>1937690.0</td>\n",
       "    </tr>\n",
       "    <tr>\n",
       "      <th>5</th>\n",
       "      <td>Uttar Pradesh</td>\n",
       "      <td>AGRA</td>\n",
       "      <td>Manoj Kumar Soni</td>\n",
       "      <td>0</td>\n",
       "      <td>BSP</td>\n",
       "      <td>49</td>\n",
       "      <td>1</td>\n",
       "      <td>0</td>\n",
       "      <td>47.0</td>\n",
       "      <td>1</td>\n",
       "      <td>Post Graduate</td>\n",
       "      <td>434199</td>\n",
       "      <td>1130.0</td>\n",
       "      <td>435329</td>\n",
       "      <td>1937690.0</td>\n",
       "    </tr>\n",
       "  </tbody>\n",
       "</table>\n",
       "</div>"
      ],
      "text/plain": [
       "           STATE CONSTITUENCY                   NAME  WINNER PARTY  SYMBOL  \\\n",
       "0      Telangana     ADILABAD         SOYAM BAPU RAO       1   BJP      80   \n",
       "1      Telangana     ADILABAD           Godam Nagesh       0   TRS      32   \n",
       "2      Telangana     ADILABAD          RATHOD RAMESH       0   INC      66   \n",
       "4  Uttar Pradesh         AGRA  Satyapal Singh Baghel       1   BJP      80   \n",
       "5  Uttar Pradesh         AGRA       Manoj Kumar Soni       0   BSP      49   \n",
       "\n",
       "   GENDER  CRIMINAL_CASES   AGE  CATEGORY      EDUCATION  GENERAL_VOTES  \\\n",
       "0       1              52  52.0         2      12th Pass         376892   \n",
       "1       1               0  54.0         2  Post Graduate         318665   \n",
       "2       1               3  52.0         2      12th Pass         314057   \n",
       "4       1               5  58.0         1      Doctorate         644459   \n",
       "5       1               0  47.0         1  Post Graduate         434199   \n",
       "\n",
       "   POSTAL_VOTES  TOTAL_VOTES  TOTAL_ELECTORS  \n",
       "0         482.0       377374       1489790.0  \n",
       "1         149.0       318814       1489790.0  \n",
       "2         181.0       314238       1489790.0  \n",
       "4        2416.0       646875       1937690.0  \n",
       "5        1130.0       435329       1937690.0  "
      ]
     },
     "execution_count": 407,
     "metadata": {},
     "output_type": "execute_result"
    }
   ],
   "source": [
    "dataset.head()"
   ]
  },
  {
   "cell_type": "markdown",
   "id": "1888654d",
   "metadata": {},
   "source": [
    "# 3)Exploratory Data Analysis\n"
   ]
  },
  {
   "cell_type": "markdown",
   "id": "b75caa77",
   "metadata": {},
   "source": [
    "### a)Univariant Analysis"
   ]
  },
  {
   "cell_type": "code",
   "execution_count": 408,
   "id": "952cd84b",
   "metadata": {},
   "outputs": [
    {
     "data": {
      "text/plain": [
       "[Text(0, 0, '1760'), Text(0, 0, '258')]"
      ]
     },
     "execution_count": 408,
     "metadata": {},
     "output_type": "execute_result"
    },
    {
     "data": {
      "image/png": "[encoded data removed]",
      "text/plain": [
       "<Figure size 432x288 with 1 Axes>"
      ]
     },
     "metadata": {
      "needs_background": "light"
     },
     "output_type": "display_data"
    }
   ],
   "source": [
    "data1=sns.countplot(x=dataset[\"GENDER\"],order=dataset['GENDER'].value_counts(ascending=False).index);\n",
    "values = dataset['GENDER'].value_counts(ascending=False).values\n",
    "data1.bar_label(container=data1.containers[0], labels=values)"
   ]
  },
  {
   "cell_type": "markdown",
   "id": "7d9f2ee5",
   "metadata": {},
   "source": [
    "                            *Total number of Male = 1760\n",
    "                            *Total number of Female = 258"
   ]
  },
  {
   "cell_type": "code",
   "execution_count": 409,
   "id": "3c3bd5bc",
   "metadata": {},
   "outputs": [
    {
     "data": {
      "text/plain": [
       "(array([ 0,  1,  2,  3,  4,  5,  6,  7,  8,  9, 10, 11, 12]),\n",
       " [Text(0, 0, 'Post Graduate'),\n",
       "  Text(1, 0, 'Graduate'),\n",
       "  Text(2, 0, 'Graduate Professional'),\n",
       "  Text(3, 0, '12th Pass'),\n",
       "  Text(4, 0, '10th Pass'),\n",
       "  Text(5, 0, '8th Pass'),\n",
       "  Text(6, 0, 'Doctorate'),\n",
       "  Text(7, 0, 'Others'),\n",
       "  Text(8, 0, 'Literate'),\n",
       "  Text(9, 0, '5th Pass'),\n",
       "  Text(10, 0, 'Not Available'),\n",
       "  Text(11, 0, 'Illiterate'),\n",
       "  Text(12, 0, 'Post Graduate\\n')])"
      ]
     },
     "execution_count": 409,
     "metadata": {},
     "output_type": "execute_result"
    },
    {
     "data": {
      "image/png": "[encoded data removed]",
      "text/plain": [
       "<Figure size 720x432 with 1 Axes>"
      ]
     },
     "metadata": {
      "needs_background": "light"
     },
     "output_type": "display_data"
    }
   ],
   "source": [
    "plt.figure(figsize=(10,6))\n",
    "data1=sns.countplot(x=dataset[\"EDUCATION\"],order=dataset['EDUCATION'].value_counts(ascending=False).index);\n",
    "values = dataset['EDUCATION'].value_counts(ascending=False).values\n",
    "data1.bar_label(container=data1.containers[0], labels=values)\n",
    "plt.xticks(rotation=90)"
   ]
  },
  {
   "cell_type": "markdown",
   "id": "dae362a0",
   "metadata": {},
   "source": [
    "### b)Bivariant Analysis"
   ]
  },
  {
   "cell_type": "code",
   "execution_count": 410,
   "id": "83fcb5f6",
   "metadata": {},
   "outputs": [
    {
     "data": {
      "text/plain": [
       "([0,\n",
       "  1,\n",
       "  2,\n",
       "  3,\n",
       "  4,\n",
       "  5,\n",
       "  6,\n",
       "  7,\n",
       "  8,\n",
       "  9,\n",
       "  10,\n",
       "  11,\n",
       "  12,\n",
       "  13,\n",
       "  14,\n",
       "  15,\n",
       "  16,\n",
       "  17,\n",
       "  18,\n",
       "  19,\n",
       "  20,\n",
       "  21,\n",
       "  22,\n",
       "  23,\n",
       "  24,\n",
       "  25,\n",
       "  26,\n",
       "  27,\n",
       "  28,\n",
       "  29,\n",
       "  30,\n",
       "  31,\n",
       "  32,\n",
       "  33,\n",
       "  34,\n",
       "  35],\n",
       " [Text(0, 0, ''),\n",
       "  Text(0, 0, ''),\n",
       "  Text(0, 0, ''),\n",
       "  Text(0, 0, ''),\n",
       "  Text(0, 0, ''),\n",
       "  Text(0, 0, ''),\n",
       "  Text(0, 0, ''),\n",
       "  Text(0, 0, ''),\n",
       "  Text(0, 0, ''),\n",
       "  Text(0, 0, ''),\n",
       "  Text(0, 0, ''),\n",
       "  Text(0, 0, ''),\n",
       "  Text(0, 0, ''),\n",
       "  Text(0, 0, ''),\n",
       "  Text(0, 0, ''),\n",
       "  Text(0, 0, ''),\n",
       "  Text(0, 0, ''),\n",
       "  Text(0, 0, ''),\n",
       "  Text(0, 0, ''),\n",
       "  Text(0, 0, ''),\n",
       "  Text(0, 0, ''),\n",
       "  Text(0, 0, ''),\n",
       "  Text(0, 0, ''),\n",
       "  Text(0, 0, ''),\n",
       "  Text(0, 0, ''),\n",
       "  Text(0, 0, ''),\n",
       "  Text(0, 0, ''),\n",
       "  Text(0, 0, ''),\n",
       "  Text(0, 0, ''),\n",
       "  Text(0, 0, ''),\n",
       "  Text(0, 0, ''),\n",
       "  Text(0, 0, ''),\n",
       "  Text(0, 0, ''),\n",
       "  Text(0, 0, ''),\n",
       "  Text(0, 0, ''),\n",
       "  Text(0, 0, '')])"
      ]
     },
     "execution_count": 410,
     "metadata": {},
     "output_type": "execute_result"
    },
    {
     "data": {
      "image/png": "[encoded data removed]",
      "text/plain": [
       "<Figure size 864x432 with 1 Axes>"
      ]
     },
     "metadata": {
      "needs_background": "light"
     },
     "output_type": "display_data"
    }
   ],
   "source": [
    "plt.figure(figsize=(12,6))\n",
    "sns.scatterplot(dataset[\"STATE\"],dataset[\"GENERAL_VOTES\"],dataset[\"POSTAL_VOTES\"])\n",
    "plt.xticks(rotation=90)"
   ]
  },
  {
   "cell_type": "code",
   "execution_count": 411,
   "id": "386d99a5",
   "metadata": {},
   "outputs": [
    {
     "data": {
      "text/plain": [
       "([0,\n",
       "  1,\n",
       "  2,\n",
       "  3,\n",
       "  4,\n",
       "  5,\n",
       "  6,\n",
       "  7,\n",
       "  8,\n",
       "  9,\n",
       "  10,\n",
       "  11,\n",
       "  12,\n",
       "  13,\n",
       "  14,\n",
       "  15,\n",
       "  16,\n",
       "  17,\n",
       "  18,\n",
       "  19,\n",
       "  20,\n",
       "  21,\n",
       "  22,\n",
       "  23,\n",
       "  24,\n",
       "  25,\n",
       "  26,\n",
       "  27,\n",
       "  28,\n",
       "  29,\n",
       "  30,\n",
       "  31,\n",
       "  32,\n",
       "  33,\n",
       "  34,\n",
       "  35],\n",
       " [Text(0, 0, ''),\n",
       "  Text(0, 0, ''),\n",
       "  Text(0, 0, ''),\n",
       "  Text(0, 0, ''),\n",
       "  Text(0, 0, ''),\n",
       "  Text(0, 0, ''),\n",
       "  Text(0, 0, ''),\n",
       "  Text(0, 0, ''),\n",
       "  Text(0, 0, ''),\n",
       "  Text(0, 0, ''),\n",
       "  Text(0, 0, ''),\n",
       "  Text(0, 0, ''),\n",
       "  Text(0, 0, ''),\n",
       "  Text(0, 0, ''),\n",
       "  Text(0, 0, ''),\n",
       "  Text(0, 0, ''),\n",
       "  Text(0, 0, ''),\n",
       "  Text(0, 0, ''),\n",
       "  Text(0, 0, ''),\n",
       "  Text(0, 0, ''),\n",
       "  Text(0, 0, ''),\n",
       "  Text(0, 0, ''),\n",
       "  Text(0, 0, ''),\n",
       "  Text(0, 0, ''),\n",
       "  Text(0, 0, ''),\n",
       "  Text(0, 0, ''),\n",
       "  Text(0, 0, ''),\n",
       "  Text(0, 0, ''),\n",
       "  Text(0, 0, ''),\n",
       "  Text(0, 0, ''),\n",
       "  Text(0, 0, ''),\n",
       "  Text(0, 0, ''),\n",
       "  Text(0, 0, ''),\n",
       "  Text(0, 0, ''),\n",
       "  Text(0, 0, ''),\n",
       "  Text(0, 0, '')])"
      ]
     },
     "execution_count": 411,
     "metadata": {},
     "output_type": "execute_result"
    },
    {
     "data": {
      "image/png": "[encoded data removed]",
      "text/plain": [
       "<Figure size 864x2304 with 1 Axes>"
      ]
     },
     "metadata": {
      "needs_background": "light"
     },
     "output_type": "display_data"
    }
   ],
   "source": [
    "plt.figure(figsize=(12,32))\n",
    "sns.scatterplot(dataset[\"STATE\"],dataset[\"PARTY\"],dataset[\"WINNER\"])\n",
    "plt.xticks(rotation=90)"
   ]
  },
  {
   "cell_type": "markdown",
   "id": "75e44113",
   "metadata": {},
   "source": [
    "# 4)Modelling"
   ]
  },
  {
   "cell_type": "markdown",
   "id": "75e9c94d",
   "metadata": {},
   "source": [
    "- K-Nearest Neighbors model is created and tested for its accuracy. KNN is a supervised machine learning model which is categorized under classification algorithms."
   ]
  },
  {
   "cell_type": "code",
   "execution_count": 412,
   "id": "9b50a15a",
   "metadata": {},
   "outputs": [],
   "source": [
    "lblEncoder_category = LabelEncoder()\n",
    "lblEncoder_category.fit(dataset['STATE'])\n",
    "dataset['STATE'] = lblEncoder_category.transform(dataset['STATE'])\n",
    "\n",
    "lblEncoder_symbol = LabelEncoder()\n",
    "lblEncoder_symbol.fit(dataset['EDUCATION'])\n",
    "dataset['EDUCATION'] = lblEncoder_symbol.transform(dataset['EDUCATION'])\n",
    "\n",
    "lblEncoder_symbol = LabelEncoder()\n",
    "lblEncoder_symbol.fit(dataset['NAME'])\n",
    "dataset['NAME'] = lblEncoder_symbol.transform(dataset['NAME'])\n",
    "\n",
    "lblEncoder_category = LabelEncoder()\n",
    "lblEncoder_category.fit(dataset['CONSTITUENCY'])\n",
    "dataset['CONSTITUENCY'] = lblEncoder_category.transform(dataset['CONSTITUENCY'])\n",
    "\n",
    "lblEncoder_category = LabelEncoder()\n",
    "lblEncoder_category.fit(dataset['PARTY'])\n",
    "dataset['PARTY'] = lblEncoder_category.transform(dataset['PARTY'])\n"
   ]
  },
  {
   "cell_type": "code",
   "execution_count": 413,
   "id": "5f5ecbf5",
   "metadata": {},
   "outputs": [],
   "source": [
    "y = dataset[\"WINNER\"]\n",
    "X = dataset.drop(labels=[\"WINNER\"], axis=1)\n",
    "\n",
    "# splitting dataset into train and test data\n",
    "X_train, X_test, y_train, y_test = train_test_split(X, y, test_size=0.2, random_state=1, stratify=y)"
   ]
  },
  {
   "cell_type": "markdown",
   "id": "f4455b0c",
   "metadata": {},
   "source": [
    "### a)KNN"
   ]
  },
  {
   "cell_type": "code",
   "execution_count": 414,
   "id": "79da6fa4",
   "metadata": {},
   "outputs": [
    {
     "name": "stdout",
     "output_type": "stream",
     "text": [
      "ACCURACY of the model:  0.8589108910891089\n",
      "F - score of the model:  0.8366982235932348\n",
      "Precision score of the model:  0.8192249662510919\n",
      "Recall score of the model:  0.8772522522522522\n",
      "Confuion Matrix \n",
      " [[248  48]\n",
      " [  9  99]]\n"
     ]
    }
   ],
   "source": [
    "from sklearn.metrics import accuracy_score,confusion_matrix,precision_score,recall_score,f1_score\n",
    "\n",
    "X_train=scaler.fit_transform(X_train)\n",
    "X_test=scaler.fit_transform(X_test)\n",
    "logic_model=LogisticRegression()\n",
    "logic_model.fit(X_train,y_train)\n",
    "y_pred=logic_model.predict(X_test)\n",
    "# using metrics module for accuracy calculation\n",
    "print(\"ACCURACY of the model: \", accuracy_score(y_test, y_pred))\n",
    "print(\"F - score of the model: \", f1_score(y_test, y_pred,average='macro'))\n",
    "print(\"Precision score of the model: \", precision_score(y_test, y_pred,average='macro'))\n",
    "print(\"Recall score of the model: \", recall_score(y_test, y_pred,average='macro'))\n",
    "print(\"Confuion Matrix \\n\", confusion_matrix(y_test, y_pred))"
   ]
  },
  {
   "cell_type": "markdown",
   "id": "92ddda29",
   "metadata": {},
   "source": [
    "### b)Logistic regression"
   ]
  },
  {
   "cell_type": "code",
   "execution_count": 415,
   "id": "d956264b",
   "metadata": {},
   "outputs": [
    {
     "name": "stdout",
     "output_type": "stream",
     "text": [
      "ACCURACY of the model:  0.8589108910891089\n",
      "F - score of the model:  0.8366982235932348\n",
      "Precision score of the model:  0.8192249662510919\n",
      "Recall score of the model:  0.8772522522522522\n",
      "Confuion Matrix \n",
      " [[248  48]\n",
      " [  9  99]]\n"
     ]
    }
   ],
   "source": [
    "from sklearn.linear_model import LogisticRegression\n",
    "logic_model=LogisticRegression()\n",
    "logic_model.fit(X_train,y_train)\n",
    "y_pred=logic_model.predict(X_test)\n",
    "\n",
    "print(\"ACCURACY of the model: \", accuracy_score(y_test, y_pred))\n",
    "print(\"F - score of the model: \", f1_score(y_test, y_pred,average='macro'))\n",
    "print(\"Precision score of the model: \", precision_score(y_test, y_pred,average='macro'))\n",
    "print(\"Recall score of the model: \", recall_score(y_test, y_pred,average='macro'))\n",
    "print(\"Confuion Matrix \\n\", confusion_matrix(y_test, y_pred))"
   ]
  },
  {
   "cell_type": "markdown",
   "id": "32189349",
   "metadata": {},
   "source": [
    "### c)Decision Tree"
   ]
  },
  {
   "cell_type": "code",
   "execution_count": 416,
   "id": "f03baa78",
   "metadata": {},
   "outputs": [
    {
     "name": "stdout",
     "output_type": "stream",
     "text": [
      "ACCURACY of the model:  0.8613861386138614\n",
      "F - score of the model:  0.8385291766586731\n",
      "Precision score of the model:  0.8210470085470085\n",
      "Recall score of the model:  0.8760010010010011\n",
      "Confuion Matrix \n",
      " [[250  46]\n",
      " [ 10  98]]\n"
     ]
    }
   ],
   "source": [
    "from sklearn.tree import DecisionTreeClassifier\n",
    "dt_model=DecisionTreeClassifier(random_state=0)\n",
    "dt_model.fit(X_train,y_train)\n",
    "y_pred=dt_model.predict(X_test)\n",
    "print(\"ACCURACY of the model: \", accuracy_score(y_test, y_pred))\n",
    "print(\"F - score of the model: \", f1_score(y_test, y_pred,average='macro'))\n",
    "print(\"Precision score of the model: \", precision_score(y_test, y_pred,average='macro'))\n",
    "print(\"Recall score of the model: \", recall_score(y_test, y_pred,average='macro'))\n",
    "print(\"Confuion Matrix \\n\", confusion_matrix(y_test, y_pred))"
   ]
  },
  {
   "cell_type": "markdown",
   "id": "006baa62",
   "metadata": {},
   "source": [
    "More accuracy in Random Forest tree"
   ]
  },
  {
   "cell_type": "markdown",
   "id": "556a2988",
   "metadata": {},
   "source": [
    "# 5)Fine tuning the model"
   ]
  },
  {
   "cell_type": "markdown",
   "id": "363c5d2d",
   "metadata": {},
   "source": [
    "- To improve the model accuracy, we are using a normalisation method. we are using MinMaxScaler from the scikit-learn library to scale down all the values into the 0–1 range."
   ]
  },
  {
   "cell_type": "code",
   "execution_count": 417,
   "id": "bcc64875",
   "metadata": {},
   "outputs": [],
   "source": [
    "scaler = MinMaxScaler(feature_range=(0, 1))\n",
    "features = [\n",
    "    'STATE', 'CONSTITUENCY', 'NAME', 'PARTY', 'SYMBOL', 'GENDER', 'CRIMINAL_CASES', 'AGE', 'CATEGORY', 'EDUCATION', 'GENERAL_VOTES', 'POSTAL_VOTES', 'TOTAL_VOTES', 'TOTAL_ELECTORS']\n",
    "dataset[features] = scaler.fit_transform(dataset[features])"
   ]
  },
  {
   "cell_type": "code",
   "execution_count": 418,
   "id": "2ec45400",
   "metadata": {},
   "outputs": [
    {
     "name": "stdout",
     "output_type": "stream",
     "text": [
      "Testing Accuracy is:  86.13861386138613 %2\n"
     ]
    }
   ],
   "source": [
    "y = dataset[\"WINNER\"]\n",
    "X = dataset.drop(labels=[\"WINNER\"], axis=1)\n",
    "\n",
    "# splitting dataset into train and test data\n",
    "X_train, X_test, y_train, y_test = train_test_split(X, y, test_size=0.2, random_state=1, stratify=y)\n",
    "\n",
    "# train and test knn model\n",
    "knn = KNeighborsClassifier()\n",
    "knn.fit(X_train, y_train)\n",
    "knn.predict(X_test)\n",
    "print(\"Testing Accuracy is: \", knn.score(X_test, y_test)*100, \"%2\")"
   ]
  },
  {
   "cell_type": "markdown",
   "id": "19404ddb",
   "metadata": {},
   "source": [
    "- The test after normalisation shows an improved accuracy of 90.5%"
   ]
  },
  {
   "cell_type": "code",
   "execution_count": null,
   "id": "5b9d0e01",
   "metadata": {},
   "outputs": [],
   "source": []
  },
  {
   "cell_type": "code",
   "execution_count": null,
   "id": "04d8ffaf",
   "metadata": {},
   "outputs": [],
   "source": []
  },
  {
   "cell_type": "code",
   "execution_count": null,
   "id": "47b5ab95",
   "metadata": {},
   "outputs": [],
   "source": []
  },
  {
   "cell_type": "code",
   "execution_count": null,
   "id": "7ce41699",
   "metadata": {},
   "outputs": [],
   "source": []
  },
  {
   "cell_type": "code",
   "execution_count": null,
   "id": "9bde4529",
   "metadata": {},
   "outputs": [],
   "source": []
  }
 ],
 "metadata": {
  "kernelspec": {
   "display_name": "Python 3 (ipykernel)",
   "language": "python",
   "name": "python3"
  },
  "language_info": {
   "codemirror_mode": {
    "name": "ipython",
    "version": 3
   },
   "file_extension": ".py",
   "mimetype": "text/x-python",
   "name": "python",
   "nbconvert_exporter": "python",
   "pygments_lexer": "ipython3",
   "version": "3.9.7"
  }
 },
 "nbformat": 4,
 "nbformat_minor": 5
}
